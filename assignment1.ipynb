{
 "cells": [
  {
   "cell_type": "code",
   "execution_count": 1,
   "id": "d8fc26e8",
   "metadata": {},
   "outputs": [],
   "source": [
    "import pandas as pd\n",
    "import numpy as np\n"
   ]
  },
  {
   "cell_type": "code",
   "execution_count": 2,
   "id": "a8684662",
   "metadata": {},
   "outputs": [
    {
     "data": {
      "text/plain": [
       "array([5, 4, 6, 3, 2, 1])"
      ]
     },
     "execution_count": 2,
     "metadata": {},
     "output_type": "execute_result"
    }
   ],
   "source": [
    "arr=np.array([1,2,3,6,4,5])\n",
    "np.flip(arr)\n"
   ]
  },
  {
   "cell_type": "code",
   "execution_count": 4,
   "id": "f9768450",
   "metadata": {},
   "outputs": [
    {
     "data": {
      "text/plain": [
       "array([1, 2, 3, 2, 4, 5, 1, 2, 3])"
      ]
     },
     "execution_count": 4,
     "metadata": {},
     "output_type": "execute_result"
    }
   ],
   "source": [
    "array1=np.array([[1,2,3],[2,4,5],[1,2,3]])\n",
    "array1.flatten()"
   ]
  },
  {
   "cell_type": "code",
   "execution_count": 5,
   "id": "5a12e0ba",
   "metadata": {},
   "outputs": [
    {
     "data": {
      "text/plain": [
       "True"
      ]
     },
     "execution_count": 5,
     "metadata": {},
     "output_type": "execute_result"
    }
   ],
   "source": [
    "array1=np.array([[1,2],[3,4]])\n",
    "array2=np.array([[1,2],[3,4]])\n",
    "np.array_equal(array1,array2)"
   ]
  },
  {
   "cell_type": "markdown",
   "id": "94cd9a8d",
   "metadata": {},
   "source": []
  },
  {
   "cell_type": "code",
   "execution_count": 9,
   "id": "19ab7e2d",
   "metadata": {
    "scrolled": true
   },
   "outputs": [
    {
     "name": "stdout",
     "output_type": "stream",
     "text": [
      "Most Frequent 1\n",
      "Indices [0 5 7 8 9]\n",
      "Most Frequent 1\n",
      "Indices [0 1 2]\n"
     ]
    }
   ],
   "source": [
    "x=np.array([1,2,3,4,5,1,2,1,1,1])\n",
    "y=np.array([1,1,1,2,3,4,2,4,3,3])\n",
    "def most_frequent_value_and_indices(arr):\n",
    "    values,counts=np.unique(arr,return_counts=True)\n",
    "    most_frequent=values[np.argmax(counts)]\n",
    "    indices=np.where(arr==most_frequent)[0]\n",
    "    print(\"Most Frequent\",most_frequent)\n",
    "    print(\"Indices\",indices)\n",
    "most_frequent_value_and_indices(x)\n",
    "most_frequent_value_and_indices(y)\n"
   ]
  },
  {
   "cell_type": "code",
   "execution_count": 10,
   "id": "b05cdaac",
   "metadata": {},
   "outputs": [
    {
     "name": "stdout",
     "output_type": "stream",
     "text": [
      "45\n",
      "[[14]\n",
      " [16]\n",
      " [15]]\n",
      "[[20  9 16]]\n"
     ]
    }
   ],
   "source": [
    "gfg=np.matrix('[4,1,9;12,3,1;4,5,6]')\n",
    "print(np.sum(gfg))\n",
    "print(np.sum(gfg,axis=1))\n",
    "print(np.sum(gfg,axis=0))"
   ]
  },
  {
   "cell_type": "code",
   "execution_count": 11,
   "id": "39591e56",
   "metadata": {},
   "outputs": [
    {
     "name": "stdout",
     "output_type": "stream",
     "text": [
      "trace 176\n",
      "eigenvalues [98.16835147 28.097044   49.73460452]\n",
      "eigenvectors [[ 0.4574917   0.34637121 -0.15017693]\n",
      " [ 0.28447814 -0.72784061 -0.4852124 ]\n",
      " [ 0.84248058  0.59184038  0.8614034 ]]\n",
      "inverse [[ 0.02404141 -0.00911212 -0.00444671]\n",
      " [-0.01667882  0.02966905  0.0024785 ]\n",
      " [ 0.00631287 -0.01603732  0.01217379]]\n",
      "determinant 137180.0000000001\n"
     ]
    }
   ],
   "source": [
    "n_array=np.array([[55,25,15],\n",
    "                 [30,44,2],\n",
    "                 [11,45,77]])\n",
    "print(\"trace\",np.trace(n_array))\n",
    "values,vectors =np.linalg.eig(n_array)\n",
    "print(\"eigenvalues\",values)\n",
    "print(\"eigenvectors\",vectors)\n",
    "print(\"inverse\",np.linalg.inv(n_array))\n",
    "print(\"determinant\",np.linalg.det(n_array))"
   ]
  },
  {
   "cell_type": "code",
   "execution_count": 12,
   "id": "ce63e01f",
   "metadata": {},
   "outputs": [
    {
     "name": "stdout",
     "output_type": "stream",
     "text": [
      "dot [[16 19]\n",
      " [26 31]]\n",
      "cov [[0.5 0.5]\n",
      " [0.5 0.5]]\n"
     ]
    }
   ],
   "source": [
    "p1=[[1,2],[2,3]]\n",
    "q1=[[4,5],[6,7]]\n",
    "print(\"dot\",np.dot(p1,q1))\n",
    "print(\"cov\",np.cov(p1,rowvar=False))\n"
   ]
  },
  {
   "cell_type": "code",
   "execution_count": 13,
   "id": "d7e0e4ac",
   "metadata": {},
   "outputs": [
    {
     "name": "stdout",
     "output_type": "stream",
     "text": [
      "inner [[17 52]\n",
      " [13 62]]\n",
      "outer\n",
      "[[ 2 10  0 10 20  6]\n",
      " [ 3 15  0 15 30  9]\n",
      " [ 4 20  0 20 40 12]\n",
      " [ 3 15  0 15 30  9]\n",
      " [ 2 10  0 10 20  6]\n",
      " [ 9 45  0 45 90 27]]\n"
     ]
    }
   ],
   "source": [
    "x=np.array([[2,3,4],[3,2,9]])\n",
    "y=np.array([[1,5,0],[5,10,3]])\n",
    "print(\"inner\",np.inner(x,y))\n",
    "print(\"outer\")\n",
    "print(np.outer(x.flatten(),y.flatten()))"
   ]
  },
  {
   "cell_type": "code",
   "execution_count": 15,
   "id": "6729e251",
   "metadata": {},
   "outputs": [
    {
     "name": "stdout",
     "output_type": "stream",
     "text": [
      "sort [ 10  16  16  52  54  62 453]\n",
      "argsort [0 3 4 1 5 2 6]\n",
      "4 smallest elements [10 16 16 52]\n",
      "5 largest elements [ 16  52  54  62 453]\n"
     ]
    }
   ],
   "source": [
    "array=np.array([10,52,62,16,16,54,453])\n",
    "print(\"sort\",np.sort(array))\n",
    "print(\"argsort\",np.argsort(array))\n",
    "print(\"4 smallest elements\",np.sort(array)[:4])\n",
    "print(\"5 largest elements\",np.sort(array)[-5:])"
   ]
  },
  {
   "cell_type": "code",
   "execution_count": 16,
   "id": "09c63d81",
   "metadata": {},
   "outputs": [
    {
     "name": "stdout",
     "output_type": "stream",
     "text": [
      "integer_elements_only [1. 2. 3. 2.]\n",
      "float_elements_only [1.2 2.2]\n"
     ]
    }
   ],
   "source": [
    "array=np.array([1.0,1.2,2.2,2.0,3.0,2.0])\n",
    "integer_elements=array[np.equal(np.mod(array,1),0)]\n",
    "float_elements=array[np.not_equal(np.mod(array,1),0)]\n",
    "print(\"integer_elements_only\",integer_elements)\n",
    "print(\"float_elements_only\",float_elements)"
   ]
  },
  {
   "cell_type": "code",
   "execution_count": 17,
   "id": "6a4f6e37",
   "metadata": {},
   "outputs": [
    {
     "name": "stdout",
     "output_type": "stream",
     "text": [
      "absolute [[1 2 3]\n",
      " [4 5 6]]\n",
      "[-3.5 -0.5  2.5]\n",
      "[[-2.75 -0.25 -3.75]\n",
      " [-1.5   1.5  -1.5 ]\n",
      " [-0.25  3.25  0.75]]\n",
      "[[-0.5 -5. ]\n",
      " [ 1.  -4. ]\n",
      " [ 2.   0.5]]\n",
      "-0.5\n",
      "-0.5\n",
      "3.8622100754188224\n"
     ]
    }
   ],
   "source": [
    "array=np.array([[1,-2,3],[-4,5,-6]])\n",
    "print(\"absolute\",np.abs(array))\n",
    "print(np.percentile(array, [25,50,75]))\n",
    "print(np.percentile(array, [25,50,75],axis=0))\n",
    "print(np.percentile(array, [25,50,75],axis=1))\n",
    "print(np.mean(array))\n",
    "print(np.median(array))\n",
    "print(np.std(array))"
   ]
  },
  {
   "cell_type": "code",
   "execution_count": 18,
   "id": "afb071e5",
   "metadata": {},
   "outputs": [
    {
     "name": "stdout",
     "output_type": "stream",
     "text": [
      "floor [-2. -2. -1.  0.  1.  1.  3.]\n",
      "trunc [-1. -1. -0.  0.  1.  1.  3.]\n",
      "ceil [-1. -1. -0.  1.  2.  2.  3.]\n",
      "round [-2. -2. -0.  0.  2.  2.  3.]\n"
     ]
    }
   ],
   "source": [
    "a=np.array([-1.8,-1.6,-0.5,0.5,1.6,1.8,3.0])\n",
    "print(\"floor\",np.floor(a))\n",
    "print(\"trunc\",np.trunc(a))\n",
    "print(\"ceil\",np.ceil(a))\n",
    "print(\"round\",np.round(a))"
   ]
  },
  {
   "cell_type": "code",
   "execution_count": null,
   "id": "686ed1c1",
   "metadata": {},
   "outputs": [],
   "source": []
  }
 ],
 "metadata": {
  "kernelspec": {
   "display_name": "Python 3 (ipykernel)",
   "language": "python",
   "name": "python3"
  },
  "language_info": {
   "codemirror_mode": {
    "name": "ipython",
    "version": 3
   },
   "file_extension": ".py",
   "mimetype": "text/x-python",
   "name": "python",
   "nbconvert_exporter": "python",
   "pygments_lexer": "ipython3",
   "version": "3.9.12"
  }
 },
 "nbformat": 4,
 "nbformat_minor": 5
}
